{
 "cells": [
  {
   "cell_type": "code",
   "execution_count": 1,
   "id": "f429a399",
   "metadata": {
    "ExecuteTime": {
     "end_time": "2025-05-06T03:16:52.929019Z",
     "start_time": "2025-05-06T03:16:52.745422Z"
    }
   },
   "outputs": [],
   "source": [
    "import pandas as pd"
   ]
  },
  {
   "cell_type": "code",
   "execution_count": 2,
   "id": "e2094ea8",
   "metadata": {},
   "outputs": [],
   "source": [
    "df=pd.read_csv('weather_data.csv')\n"
   ]
  },
  {
   "cell_type": "code",
   "execution_count": 3,
   "id": "c07ad61f",
   "metadata": {},
   "outputs": [
    {
     "data": {
      "text/html": [
       "<div>\n",
       "<style scoped>\n",
       "    .dataframe tbody tr th:only-of-type {\n",
       "        vertical-align: middle;\n",
       "    }\n",
       "\n",
       "    .dataframe tbody tr th {\n",
       "        vertical-align: top;\n",
       "    }\n",
       "\n",
       "    .dataframe thead th {\n",
       "        text-align: right;\n",
       "    }\n",
       "</style>\n",
       "<table border=\"1\" class=\"dataframe\">\n",
       "  <thead>\n",
       "    <tr style=\"text-align: right;\">\n",
       "      <th></th>\n",
       "      <th>day</th>\n",
       "      <th>temp</th>\n",
       "      <th>condition</th>\n",
       "    </tr>\n",
       "  </thead>\n",
       "  <tbody>\n",
       "    <tr>\n",
       "      <th>0</th>\n",
       "      <td>Monday</td>\n",
       "      <td>12</td>\n",
       "      <td>Sunny</td>\n",
       "    </tr>\n",
       "    <tr>\n",
       "      <th>1</th>\n",
       "      <td>Tuesday</td>\n",
       "      <td>14</td>\n",
       "      <td>Rain</td>\n",
       "    </tr>\n",
       "    <tr>\n",
       "      <th>2</th>\n",
       "      <td>Wednesday</td>\n",
       "      <td>15</td>\n",
       "      <td>Rain</td>\n",
       "    </tr>\n",
       "    <tr>\n",
       "      <th>3</th>\n",
       "      <td>Thursday</td>\n",
       "      <td>14</td>\n",
       "      <td>Cloudy</td>\n",
       "    </tr>\n",
       "    <tr>\n",
       "      <th>4</th>\n",
       "      <td>Friday</td>\n",
       "      <td>21</td>\n",
       "      <td>Sunny</td>\n",
       "    </tr>\n",
       "  </tbody>\n",
       "</table>\n",
       "</div>"
      ],
      "text/plain": [
       "         day  temp condition\n",
       "0     Monday    12     Sunny\n",
       "1    Tuesday    14      Rain\n",
       "2  Wednesday    15      Rain\n",
       "3   Thursday    14    Cloudy\n",
       "4     Friday    21     Sunny"
      ]
     },
     "execution_count": 3,
     "metadata": {},
     "output_type": "execute_result"
    }
   ],
   "source": [
    "df.head()"
   ]
  },
  {
   "cell_type": "code",
   "execution_count": 4,
   "id": "91c1cccb",
   "metadata": {},
   "outputs": [
    {
     "data": {
      "text/plain": [
       "pandas.core.frame.DataFrame"
      ]
     },
     "execution_count": 4,
     "metadata": {},
     "output_type": "execute_result"
    }
   ],
   "source": [
    "type(df)"
   ]
  },
  {
   "cell_type": "code",
   "execution_count": 5,
   "id": "90354c17",
   "metadata": {},
   "outputs": [
    {
     "data": {
      "text/plain": [
       "pandas.core.series.Series"
      ]
     },
     "execution_count": 5,
     "metadata": {},
     "output_type": "execute_result"
    }
   ],
   "source": [
    "type(df['day'])"
   ]
  },
  {
   "cell_type": "code",
   "execution_count": 6,
   "id": "3b756348",
   "metadata": {},
   "outputs": [
    {
     "data": {
      "text/plain": [
       "{'day': {0: 'Monday',\n",
       "  1: 'Tuesday',\n",
       "  2: 'Wednesday',\n",
       "  3: 'Thursday',\n",
       "  4: 'Friday',\n",
       "  5: 'Saturday',\n",
       "  6: 'Sunday'},\n",
       " 'temp': {0: 12, 1: 14, 2: 15, 3: 14, 4: 21, 5: 22, 6: 24},\n",
       " 'condition': {0: 'Sunny',\n",
       "  1: 'Rain',\n",
       "  2: 'Rain',\n",
       "  3: 'Cloudy',\n",
       "  4: 'Sunny',\n",
       "  5: 'Sunny',\n",
       "  6: 'Sunny'}}"
      ]
     },
     "execution_count": 6,
     "metadata": {},
     "output_type": "execute_result"
    }
   ],
   "source": [
    "df_dict=df.to_dict()\n",
    "df_dict"
   ]
  },
  {
   "cell_type": "code",
   "execution_count": 7,
   "id": "eac86fdd",
   "metadata": {},
   "outputs": [
    {
     "data": {
      "text/plain": [
       "[12, 14, 15, 14, 21, 22, 24]"
      ]
     },
     "execution_count": 7,
     "metadata": {},
     "output_type": "execute_result"
    }
   ],
   "source": [
    "df_list=df['temp'].to_list()\n",
    "df_list"
   ]
  },
  {
   "cell_type": "code",
   "execution_count": 8,
   "id": "b860f4a8",
   "metadata": {},
   "outputs": [
    {
     "data": {
      "text/plain": [
       "17.428571428571427"
      ]
     },
     "execution_count": 8,
     "metadata": {},
     "output_type": "execute_result"
    }
   ],
   "source": [
    "sum=sum(df_list)\n",
    "avg=sum/len(df_list)\n",
    "avg"
   ]
  },
  {
   "cell_type": "code",
   "execution_count": 9,
   "id": "6c13b9a5",
   "metadata": {},
   "outputs": [
    {
     "data": {
      "text/plain": [
       "np.float64(17.428571428571427)"
      ]
     },
     "execution_count": 9,
     "metadata": {},
     "output_type": "execute_result"
    }
   ],
   "source": [
    "df['temp'].mean()"
   ]
  },
  {
   "cell_type": "code",
   "execution_count": 10,
   "id": "e6c77ced",
   "metadata": {},
   "outputs": [
    {
     "data": {
      "text/plain": [
       "0    14\n",
       "Name: temp, dtype: int64"
      ]
     },
     "execution_count": 10,
     "metadata": {},
     "output_type": "execute_result"
    }
   ],
   "source": [
    "df['temp'].mode()"
   ]
  },
  {
   "cell_type": "code",
   "execution_count": 11,
   "id": "8ed7e8e9",
   "metadata": {},
   "outputs": [
    {
     "data": {
      "text/plain": [
       "24"
      ]
     },
     "execution_count": 11,
     "metadata": {},
     "output_type": "execute_result"
    }
   ],
   "source": [
    "df['temp'].max()"
   ]
  },
  {
   "cell_type": "markdown",
   "id": "24d971a0",
   "metadata": {},
   "source": [
    "### Get data row"
   ]
  },
  {
   "cell_type": "code",
   "execution_count": 12,
   "id": "e777bc8b",
   "metadata": {},
   "outputs": [
    {
     "data": {
      "text/html": [
       "<div>\n",
       "<style scoped>\n",
       "    .dataframe tbody tr th:only-of-type {\n",
       "        vertical-align: middle;\n",
       "    }\n",
       "\n",
       "    .dataframe tbody tr th {\n",
       "        vertical-align: top;\n",
       "    }\n",
       "\n",
       "    .dataframe thead th {\n",
       "        text-align: right;\n",
       "    }\n",
       "</style>\n",
       "<table border=\"1\" class=\"dataframe\">\n",
       "  <thead>\n",
       "    <tr style=\"text-align: right;\">\n",
       "      <th></th>\n",
       "      <th>day</th>\n",
       "      <th>temp</th>\n",
       "      <th>condition</th>\n",
       "    </tr>\n",
       "  </thead>\n",
       "  <tbody>\n",
       "    <tr>\n",
       "      <th>0</th>\n",
       "      <td>Monday</td>\n",
       "      <td>12</td>\n",
       "      <td>Sunny</td>\n",
       "    </tr>\n",
       "  </tbody>\n",
       "</table>\n",
       "</div>"
      ],
      "text/plain": [
       "      day  temp condition\n",
       "0  Monday    12     Sunny"
      ]
     },
     "execution_count": 12,
     "metadata": {},
     "output_type": "execute_result"
    }
   ],
   "source": [
    "df[df.day=='Monday']"
   ]
  },
  {
   "cell_type": "code",
   "execution_count": 13,
   "id": "f2441770",
   "metadata": {},
   "outputs": [],
   "source": [
    "monday=df[df['day']=='Monday']"
   ]
  },
  {
   "cell_type": "code",
   "execution_count": 14,
   "id": "935bf5b1",
   "metadata": {},
   "outputs": [
    {
     "data": {
      "text/html": [
       "<div>\n",
       "<style scoped>\n",
       "    .dataframe tbody tr th:only-of-type {\n",
       "        vertical-align: middle;\n",
       "    }\n",
       "\n",
       "    .dataframe tbody tr th {\n",
       "        vertical-align: top;\n",
       "    }\n",
       "\n",
       "    .dataframe thead th {\n",
       "        text-align: right;\n",
       "    }\n",
       "</style>\n",
       "<table border=\"1\" class=\"dataframe\">\n",
       "  <thead>\n",
       "    <tr style=\"text-align: right;\">\n",
       "      <th></th>\n",
       "      <th>day</th>\n",
       "      <th>temp</th>\n",
       "      <th>condition</th>\n",
       "    </tr>\n",
       "  </thead>\n",
       "  <tbody>\n",
       "    <tr>\n",
       "      <th>6</th>\n",
       "      <td>Sunday</td>\n",
       "      <td>24</td>\n",
       "      <td>Sunny</td>\n",
       "    </tr>\n",
       "  </tbody>\n",
       "</table>\n",
       "</div>"
      ],
      "text/plain": [
       "      day  temp condition\n",
       "6  Sunday    24     Sunny"
      ]
     },
     "execution_count": 14,
     "metadata": {},
     "output_type": "execute_result"
    }
   ],
   "source": [
    "df[df.temp==df['temp'].max()]"
   ]
  },
  {
   "cell_type": "code",
   "execution_count": 15,
   "id": "b7a79a1f",
   "metadata": {},
   "outputs": [
    {
     "data": {
      "text/plain": [
       "0    Sunny\n",
       "Name: condition, dtype: object"
      ]
     },
     "execution_count": 15,
     "metadata": {},
     "output_type": "execute_result"
    }
   ],
   "source": [
    "monday.condition"
   ]
  },
  {
   "cell_type": "code",
   "execution_count": 16,
   "id": "e039f1a5",
   "metadata": {},
   "outputs": [
    {
     "data": {
      "text/plain": [
       "0    Monday\n",
       "Name: day, dtype: object"
      ]
     },
     "execution_count": 16,
     "metadata": {},
     "output_type": "execute_result"
    }
   ],
   "source": [
    "monday.day"
   ]
  },
  {
   "cell_type": "code",
   "execution_count": 17,
   "id": "137ac8af",
   "metadata": {},
   "outputs": [
    {
     "name": "stdout",
     "output_type": "stream",
     "text": [
      "12\n"
     ]
    }
   ],
   "source": [
    "monday_temper=monday.temp[0]\n",
    "print(monday_temper)\n"
   ]
  },
  {
   "cell_type": "code",
   "execution_count": 18,
   "id": "7a812fb8",
   "metadata": {},
   "outputs": [
    {
     "name": "stdout",
     "output_type": "stream",
     "text": [
      "53.6\n"
     ]
    }
   ],
   "source": [
    "monday_temper_inF=(monday_temper*9/5)+32\n",
    "print(monday_temper_inF)"
   ]
  },
  {
   "cell_type": "markdown",
   "id": "7b6b4e9cca3f5931",
   "metadata": {},
   "source": [
    "### Creating DataFrame from Scratch"
   ]
  },
  {
   "cell_type": "code",
   "execution_count": 21,
   "id": "5fa8d6de8fbc3207",
   "metadata": {
    "ExecuteTime": {
     "end_time": "2025-05-06T03:16:37.691737Z",
     "start_time": "2025-05-06T03:16:17.939509Z"
    }
   },
   "outputs": [],
   "source": [
    "dict_to_df={\n",
    "'name':['sushant', 'rodan', 'utsav'],\n",
    "'roll':[11,24,83],\n",
    "'faculty':['BEI', 'BCE', 'BAR']\n",
    "}\n"
   ]
  },
  {
   "cell_type": "code",
   "execution_count": 22,
   "id": "41c7d711",
   "metadata": {
    "ExecuteTime": {
     "end_time": "2025-05-06T03:16:37.692297Z",
     "start_time": "2025-05-06T03:16:31.258088Z"
    }
   },
   "outputs": [
    {
     "data": {
      "text/html": [
       "<div>\n",
       "<style scoped>\n",
       "    .dataframe tbody tr th:only-of-type {\n",
       "        vertical-align: middle;\n",
       "    }\n",
       "\n",
       "    .dataframe tbody tr th {\n",
       "        vertical-align: top;\n",
       "    }\n",
       "\n",
       "    .dataframe thead th {\n",
       "        text-align: right;\n",
       "    }\n",
       "</style>\n",
       "<table border=\"1\" class=\"dataframe\">\n",
       "  <thead>\n",
       "    <tr style=\"text-align: right;\">\n",
       "      <th></th>\n",
       "      <th>name</th>\n",
       "      <th>roll</th>\n",
       "      <th>faculty</th>\n",
       "    </tr>\n",
       "  </thead>\n",
       "  <tbody>\n",
       "    <tr>\n",
       "      <th>0</th>\n",
       "      <td>sushant</td>\n",
       "      <td>11</td>\n",
       "      <td>BEI</td>\n",
       "    </tr>\n",
       "    <tr>\n",
       "      <th>1</th>\n",
       "      <td>rodan</td>\n",
       "      <td>24</td>\n",
       "      <td>BCE</td>\n",
       "    </tr>\n",
       "    <tr>\n",
       "      <th>2</th>\n",
       "      <td>utsav</td>\n",
       "      <td>83</td>\n",
       "      <td>BAR</td>\n",
       "    </tr>\n",
       "  </tbody>\n",
       "</table>\n",
       "</div>"
      ],
      "text/plain": [
       "      name  roll faculty\n",
       "0  sushant    11     BEI\n",
       "1    rodan    24     BCE\n",
       "2    utsav    83     BAR"
      ]
     },
     "execution_count": 22,
     "metadata": {},
     "output_type": "execute_result"
    }
   ],
   "source": [
    "pd.DataFrame(dict_to_df)"
   ]
  },
  {
   "cell_type": "code",
   "execution_count": null,
   "id": "e8134eec084d4f73",
   "metadata": {},
   "outputs": [],
   "source": []
  }
 ],
 "metadata": {
  "kernelspec": {
   "display_name": "ai",
   "language": "python",
   "name": "python3"
  },
  "language_info": {
   "codemirror_mode": {
    "name": "ipython",
    "version": 3
   },
   "file_extension": ".py",
   "mimetype": "text/x-python",
   "name": "python",
   "nbconvert_exporter": "python",
   "pygments_lexer": "ipython3",
   "version": "3.13.2"
  }
 },
 "nbformat": 4,
 "nbformat_minor": 5
}
