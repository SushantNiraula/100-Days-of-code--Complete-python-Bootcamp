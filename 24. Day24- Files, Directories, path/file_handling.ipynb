{
 "cells": [
  {
   "metadata": {},
   "cell_type": "markdown",
   "source": "## Learning to open a file",
   "id": "92d840df66b9364f"
  },
  {
   "cell_type": "code",
   "id": "initial_id",
   "metadata": {
    "collapsed": true,
    "ExecuteTime": {
     "end_time": "2025-05-05T03:37:02.894720Z",
     "start_time": "2025-05-05T03:37:02.884312Z"
    }
   },
   "source": [
    "file=open(\"my_file.txt\")\n",
    "content=file.read()"
   ],
   "outputs": [],
   "execution_count": 2
  },
  {
   "metadata": {
    "ExecuteTime": {
     "end_time": "2025-05-05T03:40:54.212976Z",
     "start_time": "2025-05-05T03:40:54.206613Z"
    }
   },
   "cell_type": "code",
   "source": "print(content)",
   "id": "3292a4d6409f4995",
   "outputs": [
    {
     "name": "stdout",
     "output_type": "stream",
     "text": [
      "Hello i am sushant.\n",
      "How are you?\n"
     ]
    }
   ],
   "execution_count": 3
  },
  {
   "metadata": {},
   "cell_type": "markdown",
   "source": "### To write on the file:",
   "id": "f32bc1ff6a3312"
  },
  {
   "metadata": {
    "ExecuteTime": {
     "end_time": "2025-05-05T03:41:28.044421Z",
     "start_time": "2025-05-05T03:41:27.817497Z"
    }
   },
   "cell_type": "code",
   "source": "file.write(\"Sushant is a good boi! \")\n",
   "id": "8e23288b20217835",
   "outputs": [
    {
     "ename": "UnsupportedOperation",
     "evalue": "not writable",
     "output_type": "error",
     "traceback": [
      "\u001B[0;31m---------------------------------------------------------------------------\u001B[0m",
      "\u001B[0;31mUnsupportedOperation\u001B[0m                      Traceback (most recent call last)",
      "Cell \u001B[0;32mIn[4], line 1\u001B[0m\n\u001B[0;32m----> 1\u001B[0m \u001B[43mfile\u001B[49m\u001B[38;5;241;43m.\u001B[39;49m\u001B[43mwrite\u001B[49m\u001B[43m(\u001B[49m\u001B[38;5;124;43m\"\u001B[39;49m\u001B[38;5;124;43mSushant is a good boi! \u001B[39;49m\u001B[38;5;124;43m\"\u001B[39;49m\u001B[43m)\u001B[49m\n",
      "\u001B[0;31mUnsupportedOperation\u001B[0m: not writable"
     ]
    }
   ],
   "execution_count": 4
  },
  {
   "metadata": {},
   "cell_type": "markdown",
   "source": "## Its now writable because we opened it in read mode i.e by default for open method.",
   "id": "e82a15014d5e3fb5"
  },
  {
   "metadata": {
    "ExecuteTime": {
     "end_time": "2025-05-05T03:45:47.808056Z",
     "start_time": "2025-05-05T03:45:47.801397Z"
    }
   },
   "cell_type": "code",
   "source": "file.close()",
   "id": "184aef29610faead",
   "outputs": [],
   "execution_count": 5
  },
  {
   "metadata": {
    "ExecuteTime": {
     "end_time": "2025-05-05T03:46:08.007944Z",
     "start_time": "2025-05-05T03:46:08.001082Z"
    }
   },
   "cell_type": "code",
   "source": [
    "## Beter way to open file is :\n",
    "with open(\"my_file.txt\") as f:\n",
    "    content=f.read()\n",
    "    print(content)"
   ],
   "id": "dfb7137252bc82b6",
   "outputs": [
    {
     "name": "stdout",
     "output_type": "stream",
     "text": [
      "Hello i am sushant.\n",
      "How are you?\n"
     ]
    }
   ],
   "execution_count": 6
  },
  {
   "metadata": {
    "ExecuteTime": {
     "end_time": "2025-05-05T03:47:17.853774Z",
     "start_time": "2025-05-05T03:47:17.845874Z"
    }
   },
   "cell_type": "code",
   "source": [
    "with open(\"my_file.txt\",mode='w') as f:\n",
    "    f.write(\"My name is nepali boi!\")\n",
    "    f.close()\n"
   ],
   "id": "b3fcc2bb4eb4a9a6",
   "outputs": [],
   "execution_count": 8
  },
  {
   "metadata": {
    "ExecuteTime": {
     "end_time": "2025-05-05T03:49:31.636148Z",
     "start_time": "2025-05-05T03:49:31.629882Z"
    }
   },
   "cell_type": "code",
   "source": [
    "with open(\"my_file.txt\",mode='r') as f:\n",
    "    content=f.read()\n",
    "    print(content)\n",
    "    f.close()"
   ],
   "id": "e8bcde66a0182788",
   "outputs": [
    {
     "name": "stdout",
     "output_type": "stream",
     "text": [
      "My name is nepali boi!\n"
     ]
    }
   ],
   "execution_count": 11
  },
  {
   "metadata": {},
   "cell_type": "markdown",
   "source": "## When we write in write mode we are clearing the prev records in file and adding completly new contents.",
   "id": "974ab8f26d49f4f6"
  },
  {
   "metadata": {
    "ExecuteTime": {
     "end_time": "2025-05-05T03:49:42.552571Z",
     "start_time": "2025-05-05T03:49:42.548690Z"
    }
   },
   "cell_type": "code",
   "source": [
    "## To fix the issue we open file in append mode.\n",
    "with open(\"my_file.txt\",mode='a') as f:\n",
    "    f.write(\"\\nHello boi how are you?\")\n",
    "    f.close()"
   ],
   "id": "de99ec5720bf4696",
   "outputs": [],
   "execution_count": 13
  },
  {
   "metadata": {
    "ExecuteTime": {
     "end_time": "2025-05-05T03:49:52.257801Z",
     "start_time": "2025-05-05T03:49:52.251625Z"
    }
   },
   "cell_type": "code",
   "source": [
    "with open(\"my_file.txt\",mode='r') as f:\n",
    "    content=f.read()\n",
    "    print(content)\n",
    "    f.close()\n"
   ],
   "id": "204b4c8049d238ce",
   "outputs": [
    {
     "name": "stdout",
     "output_type": "stream",
     "text": [
      "My name is nepali boi!\n",
      "Hello boi how are you?\n"
     ]
    }
   ],
   "execution_count": 14
  },
  {
   "metadata": {},
   "cell_type": "markdown",
   "source": "## If we are opening a file that does'nt exist in write mode then we are creating new file",
   "id": "8be163981c303bac"
  },
  {
   "metadata": {
    "ExecuteTime": {
     "end_time": "2025-05-05T03:50:55.789788Z",
     "start_time": "2025-05-05T03:50:55.778648Z"
    }
   },
   "cell_type": "code",
   "source": [
    "with open(\"new_file.txt\",mode='w') as f:\n",
    "    f.write(\"Hello boi how are you?\")\n",
    "    f.close()\n",
    "with open(\"new_file.txt\",mode='r') as f:\n",
    "    content=f.read()\n",
    "    print(content)\n",
    "    f.close()\n"
   ],
   "id": "c0f52440b8005be9",
   "outputs": [
    {
     "name": "stdout",
     "output_type": "stream",
     "text": [
      "Hello boi how are you?\n"
     ]
    }
   ],
   "execution_count": 15
  },
  {
   "metadata": {},
   "cell_type": "markdown",
   "source": "## Will understand Paths",
   "id": "da65c4741aacd4f8"
  },
  {
   "metadata": {},
   "cell_type": "code",
   "outputs": [],
   "execution_count": null,
   "source": "",
   "id": "b44833c198630251"
  }
 ],
 "metadata": {
  "kernelspec": {
   "display_name": "Python 3",
   "language": "python",
   "name": "python3"
  },
  "language_info": {
   "codemirror_mode": {
    "name": "ipython",
    "version": 2
   },
   "file_extension": ".py",
   "mimetype": "text/x-python",
   "name": "python",
   "nbconvert_exporter": "python",
   "pygments_lexer": "ipython2",
   "version": "2.7.6"
  }
 },
 "nbformat": 4,
 "nbformat_minor": 5
}
